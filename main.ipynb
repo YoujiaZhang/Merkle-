{
 "cells": [
  {
   "cell_type": "code",
   "execution_count": 175,
   "metadata": {},
   "outputs": [],
   "source": [
    "from MerkleTree import *\n",
    "\n",
    "root = TreeNode(3)\n",
    "node_0 = TreeNode(4)\n",
    "node_1 = TreeNode(1)\n",
    "node_2 = TreeNode(1)\n",
    "node_3 = TreeNode(6)\n",
    "node_4 = TreeNode(2)"
   ]
  },
  {
   "cell_type": "code",
   "execution_count": 181,
   "metadata": {},
   "outputs": [],
   "source": [
    "# from Crypto.Hash import SHAKE256\n",
    "\n",
    "# def calculate_hash(data: bytes) -> str:\n",
    "#     h = SHA256.new()\n",
    "#     h.update(data)\n",
    "#     return h.hexdigest()\n",
    "\n",
    "string = f\"{node_3.value} 所得到的所 {node_1.value}\"\n",
    "\n",
    "#sdsdsd tes\n",
    "\n",
    "# sdsds\n",
    "\n",
    "# tesghusd \n"
   ]
  }
 ],
 "metadata": {
  "interpreter": {
   "hash": "31f2aee4e71d21fbe5cf8b01ff0e069b9275f58929596ceb00d14d90e3e16cd6"
  },
  "kernelspec": {
   "display_name": "Python 3.6.9 64-bit",
   "name": "python3"
  },
  "language_info": {
   "codemirror_mode": {
    "name": "ipython",
    "version": 3
   },
   "file_extension": ".py",
   "mimetype": "text/x-python",
   "name": "python",
   "nbconvert_exporter": "python",
   "pygments_lexer": "ipython3",
   "version": "3.6.9"
  },
  "orig_nbformat": 4
 },
 "nbformat": 4,
 "nbformat_minor": 2
}
